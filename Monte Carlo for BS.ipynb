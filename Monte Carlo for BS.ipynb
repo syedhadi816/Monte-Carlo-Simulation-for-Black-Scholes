{
 "cells": [
  {
   "cell_type": "code",
   "execution_count": 2,
   "metadata": {},
   "outputs": [],
   "source": [
    "import numpy as np\n",
    "from matplotlib import pyplot as plt"
   ]
  },
  {
   "cell_type": "code",
   "execution_count": 20,
   "metadata": {},
   "outputs": [],
   "source": [
    "def Heaviside(x):\n",
    "    if(x<0):\n",
    "        return 0\n",
    "    if(x>0):\n",
    "        return 1"
   ]
  },
  {
   "cell_type": "code",
   "execution_count": 30,
   "metadata": {},
   "outputs": [
    {
     "name": "stdout",
     "output_type": "stream",
     "text": [
      "49.80457739531501\n"
     ]
    }
   ],
   "source": [
    "# 𝑟 = 0.1, 𝜎 = 0.3 𝑆=90,𝐸=100, 𝑇=1\n",
    "T =1\n",
    "N =365*T\n",
    "dt = T/N\n",
    "r=0.1\n",
    "sigma=0.3\n",
    "m=100000\n",
    "E=100\n",
    "S_init = 90\n",
    "t=0\n",
    "S = np.zeros(m)\n",
    "for k in range (m):\n",
    "    S_old=S_init\n",
    "    S_new=0\n",
    "    t_old=0\n",
    "    for j in range (N):\n",
    "        S_new = S_old + (r*S_old*dt)+(sigma*S_old*(dt**(1/2))*np.random.normal())\n",
    "        S_old=S_new\n",
    "        t_new = t_old+dt\n",
    "        t_old = t_new\n",
    "    S[k]= S_new*(Heaviside(S_new-E))\n",
    "\n",
    "price= np.exp(-r*T)*np.mean(S)\n",
    "print(price)"
   ]
  },
  {
   "cell_type": "code",
   "execution_count": 4,
   "metadata": {},
   "outputs": [],
   "source": [
    "#d= (np.log(1.1111)+(0.1 - 0.08)*(2))/(0.4*1.41424)"
   ]
  },
  {
   "cell_type": "code",
   "execution_count": 13,
   "metadata": {},
   "outputs": [
    {
     "data": {
      "text/plain": [
       "array([15.11090909,  6.21545455,  2.34909091,  0.19272727])"
      ]
     },
     "execution_count": 13,
     "metadata": {},
     "output_type": "execute_result"
    }
   ],
   "source": [
    "est = [47.728,49.2739 ,49.913, 49.804]\n",
    "a = np.array(est)\n",
    "exact = 8.82\n",
    "d = abs(((11 - a)/11)*100)\n",
    "d"
   ]
  },
  {
   "cell_type": "code",
   "execution_count": 14,
   "metadata": {},
   "outputs": [],
   "source": [
    "A= np.log(d)"
   ]
  },
  {
   "cell_type": "code",
   "execution_count": 11,
   "metadata": {},
   "outputs": [],
   "source": [
    "s = [100,1000,10000, 100000]"
   ]
  },
  {
   "cell_type": "code",
   "execution_count": 19,
   "metadata": {},
   "outputs": [
    {
     "data": {
      "image/png": "[encoded data removed]",
      "text/plain": [
       "<Figure size 432x288 with 1 Axes>"
      ]
     },
     "metadata": {
      "needs_background": "light"
     },
     "output_type": "display_data"
    }
   ],
   "source": [
    "plt.plot(s,A )\n",
    "plt.savefig('Error Q2a',dpi=300, bbox_inches='tight')\n",
    "plt.suptitle('Error VS Simulations, European Put', fontsize=20)\n",
    "plt.xlabel('# of Simulations', fontsize=18)\n",
    "plt.ylabel('Error', fontsize=18)\n",
    "plt.subplots_adjust(top=0.88)\n",
    "plt.savefig('Error Q2b')"
   ]
  },
  {
   "cell_type": "code",
   "execution_count": null,
   "metadata": {},
   "outputs": [],
   "source": [
    "47.728\n",
    "49.2739\n",
    "49.913\n",
    "49.804"
   ]
  }
 ],
 "metadata": {
  "kernelspec": {
   "display_name": "Python 3",
   "language": "python",
   "name": "python3"
  },
  "language_info": {
   "codemirror_mode": {
    "name": "ipython",
    "version": 3
   },
   "file_extension": ".py",
   "mimetype": "text/x-python",
   "name": "python",
   "nbconvert_exporter": "python",
   "pygments_lexer": "ipython3",
   "version": "3.8.3rc1"
  }
 },
 "nbformat": 4,
 "nbformat_minor": 4
}
